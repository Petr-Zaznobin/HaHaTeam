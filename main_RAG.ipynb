{
 "cells": [
  {
   "cell_type": "markdown",
   "metadata": {
    "id": "ueS_AmYrAN0U"
   },
   "source": [
    "--------"
   ]
  },
  {
   "cell_type": "code",
   "execution_count": 2,
   "metadata": {
    "id": "Ir-_v-uvANW4"
   },
   "outputs": [
    {
     "name": "stdout",
     "output_type": "stream",
     "text": [
      "Requirement already satisfied: langchain in c:\\users\\basyr\\.conda\\envs\\fpi\\lib\\site-packages (0.3.23)\n",
      "Requirement already satisfied: langchain-community in c:\\users\\basyr\\.conda\\envs\\fpi\\lib\\site-packages (0.3.21)\n",
      "Requirement already satisfied: gigachat in c:\\users\\basyr\\.conda\\envs\\fpi\\lib\\site-packages (0.1.39.post1)\n",
      "Requirement already satisfied: langchain-core<1.0.0,>=0.3.51 in c:\\users\\basyr\\.conda\\envs\\fpi\\lib\\site-packages (from langchain) (0.3.54)\n",
      "Requirement already satisfied: langchain-text-splitters<1.0.0,>=0.3.8 in c:\\users\\basyr\\.conda\\envs\\fpi\\lib\\site-packages (from langchain) (0.3.8)\n",
      "Requirement already satisfied: langsmith<0.4,>=0.1.17 in c:\\users\\basyr\\.conda\\envs\\fpi\\lib\\site-packages (from langchain) (0.1.147)\n",
      "Requirement already satisfied: pydantic<3.0.0,>=2.7.4 in c:\\users\\basyr\\.conda\\envs\\fpi\\lib\\site-packages (from langchain) (2.11.3)\n",
      "Requirement already satisfied: SQLAlchemy<3,>=1.4 in c:\\users\\basyr\\.conda\\envs\\fpi\\lib\\site-packages (from langchain) (2.0.37)\n",
      "Requirement already satisfied: requests<3,>=2 in c:\\users\\basyr\\.conda\\envs\\fpi\\lib\\site-packages (from langchain) (2.32.3)\n",
      "Requirement already satisfied: PyYAML>=5.3 in c:\\users\\basyr\\.conda\\envs\\fpi\\lib\\site-packages (from langchain) (6.0.2)\n",
      "Requirement already satisfied: aiohttp<4.0.0,>=3.8.3 in c:\\users\\basyr\\.conda\\envs\\fpi\\lib\\site-packages (from langchain-community) (3.11.10)\n",
      "Requirement already satisfied: tenacity!=8.4.0,<10,>=8.1.0 in c:\\users\\basyr\\.conda\\envs\\fpi\\lib\\site-packages (from langchain-community) (9.0.0)\n",
      "Requirement already satisfied: dataclasses-json<0.7,>=0.5.7 in c:\\users\\basyr\\.conda\\envs\\fpi\\lib\\site-packages (from langchain-community) (0.6.5)\n",
      "Requirement already satisfied: pydantic-settings<3.0.0,>=2.4.0 in c:\\users\\basyr\\.conda\\envs\\fpi\\lib\\site-packages (from langchain-community) (2.6.1)\n",
      "Requirement already satisfied: httpx-sse<1.0.0,>=0.4.0 in c:\\users\\basyr\\.conda\\envs\\fpi\\lib\\site-packages (from langchain-community) (0.4.0)\n",
      "Requirement already satisfied: numpy<3,>=1.26.2 in c:\\users\\basyr\\.conda\\envs\\fpi\\lib\\site-packages (from langchain-community) (1.26.4)\n",
      "Requirement already satisfied: httpx<1 in c:\\users\\basyr\\.conda\\envs\\fpi\\lib\\site-packages (from gigachat) (0.27.0)\n",
      "Requirement already satisfied: aiohappyeyeballs>=2.3.0 in c:\\users\\basyr\\.conda\\envs\\fpi\\lib\\site-packages (from aiohttp<4.0.0,>=3.8.3->langchain-community) (2.4.4)\n",
      "Requirement already satisfied: aiosignal>=1.1.2 in c:\\users\\basyr\\.conda\\envs\\fpi\\lib\\site-packages (from aiohttp<4.0.0,>=3.8.3->langchain-community) (1.2.0)\n",
      "Requirement already satisfied: attrs>=17.3.0 in c:\\users\\basyr\\.conda\\envs\\fpi\\lib\\site-packages (from aiohttp<4.0.0,>=3.8.3->langchain-community) (24.3.0)\n",
      "Requirement already satisfied: frozenlist>=1.1.1 in c:\\users\\basyr\\.conda\\envs\\fpi\\lib\\site-packages (from aiohttp<4.0.0,>=3.8.3->langchain-community) (1.5.0)\n",
      "Requirement already satisfied: multidict<7.0,>=4.5 in c:\\users\\basyr\\.conda\\envs\\fpi\\lib\\site-packages (from aiohttp<4.0.0,>=3.8.3->langchain-community) (6.1.0)\n",
      "Requirement already satisfied: propcache>=0.2.0 in c:\\users\\basyr\\.conda\\envs\\fpi\\lib\\site-packages (from aiohttp<4.0.0,>=3.8.3->langchain-community) (0.3.1)\n",
      "Requirement already satisfied: yarl<2.0,>=1.17.0 in c:\\users\\basyr\\.conda\\envs\\fpi\\lib\\site-packages (from aiohttp<4.0.0,>=3.8.3->langchain-community) (1.18.0)\n",
      "Requirement already satisfied: marshmallow<4.0.0,>=3.18.0 in c:\\users\\basyr\\.conda\\envs\\fpi\\lib\\site-packages (from dataclasses-json<0.7,>=0.5.7->langchain-community) (3.19.0)\n",
      "Requirement already satisfied: typing-inspect<1,>=0.4.0 in c:\\users\\basyr\\.conda\\envs\\fpi\\lib\\site-packages (from dataclasses-json<0.7,>=0.5.7->langchain-community) (0.9.0)\n",
      "Requirement already satisfied: anyio in c:\\users\\basyr\\.conda\\envs\\fpi\\lib\\site-packages (from httpx<1->gigachat) (4.6.2)\n",
      "Requirement already satisfied: certifi in c:\\users\\basyr\\.conda\\envs\\fpi\\lib\\site-packages (from httpx<1->gigachat) (2025.1.31)\n",
      "Requirement already satisfied: httpcore==1.* in c:\\users\\basyr\\.conda\\envs\\fpi\\lib\\site-packages (from httpx<1->gigachat) (1.0.2)\n",
      "Requirement already satisfied: idna in c:\\users\\basyr\\.conda\\envs\\fpi\\lib\\site-packages (from httpx<1->gigachat) (3.10)\n",
      "Requirement already satisfied: sniffio in c:\\users\\basyr\\.conda\\envs\\fpi\\lib\\site-packages (from httpx<1->gigachat) (1.3.0)\n",
      "Requirement already satisfied: h11<0.15,>=0.13 in c:\\users\\basyr\\.conda\\envs\\fpi\\lib\\site-packages (from httpcore==1.*->httpx<1->gigachat) (0.14.0)\n",
      "Requirement already satisfied: jsonpatch<2.0,>=1.33 in c:\\users\\basyr\\.conda\\envs\\fpi\\lib\\site-packages (from langchain-core<1.0.0,>=0.3.51->langchain) (1.33)\n",
      "Requirement already satisfied: packaging<25,>=23.2 in c:\\users\\basyr\\.conda\\envs\\fpi\\lib\\site-packages (from langchain-core<1.0.0,>=0.3.51->langchain) (24.2)\n",
      "Requirement already satisfied: typing-extensions>=4.7 in c:\\users\\basyr\\.conda\\envs\\fpi\\lib\\site-packages (from langchain-core<1.0.0,>=0.3.51->langchain) (4.12.2)\n",
      "Requirement already satisfied: orjson<4.0.0,>=3.9.14 in c:\\users\\basyr\\.conda\\envs\\fpi\\lib\\site-packages (from langsmith<0.4,>=0.1.17->langchain) (3.10.14)\n",
      "Requirement already satisfied: requests-toolbelt<2.0.0,>=1.0.0 in c:\\users\\basyr\\.conda\\envs\\fpi\\lib\\site-packages (from langsmith<0.4,>=0.1.17->langchain) (1.0.0)\n",
      "Requirement already satisfied: annotated-types>=0.6.0 in c:\\users\\basyr\\.conda\\envs\\fpi\\lib\\site-packages (from pydantic<3.0.0,>=2.7.4->langchain) (0.6.0)\n",
      "Requirement already satisfied: pydantic-core==2.33.1 in c:\\users\\basyr\\.conda\\envs\\fpi\\lib\\site-packages (from pydantic<3.0.0,>=2.7.4->langchain) (2.33.1)\n",
      "Requirement already satisfied: typing-inspection>=0.4.0 in c:\\users\\basyr\\.conda\\envs\\fpi\\lib\\site-packages (from pydantic<3.0.0,>=2.7.4->langchain) (0.4.0)\n",
      "Requirement already satisfied: python-dotenv>=0.21.0 in c:\\users\\basyr\\.conda\\envs\\fpi\\lib\\site-packages (from pydantic-settings<3.0.0,>=2.4.0->langchain-community) (0.21.0)\n",
      "Requirement already satisfied: charset-normalizer<4,>=2 in c:\\users\\basyr\\.conda\\envs\\fpi\\lib\\site-packages (from requests<3,>=2->langchain) (3.3.2)\n",
      "Requirement already satisfied: urllib3<3,>=1.21.1 in c:\\users\\basyr\\.conda\\envs\\fpi\\lib\\site-packages (from requests<3,>=2->langchain) (2.3.0)\n",
      "Requirement already satisfied: greenlet!=0.4.17 in c:\\users\\basyr\\.conda\\envs\\fpi\\lib\\site-packages (from SQLAlchemy<3,>=1.4->langchain) (3.1.1)\n",
      "Requirement already satisfied: jsonpointer>=1.9 in c:\\users\\basyr\\.conda\\envs\\fpi\\lib\\site-packages (from jsonpatch<2.0,>=1.33->langchain-core<1.0.0,>=0.3.51->langchain) (2.1)\n",
      "Requirement already satisfied: mypy-extensions>=0.3.0 in c:\\users\\basyr\\.conda\\envs\\fpi\\lib\\site-packages (from typing-inspect<1,>=0.4.0->dataclasses-json<0.7,>=0.5.7->langchain-community) (1.0.0)\n",
      "Note: you may need to restart the kernel to use updated packages.\n"
     ]
    },
    {
     "name": "stderr",
     "output_type": "stream",
     "text": [
      "WARNING: Ignoring invalid distribution ~angchain-community (C:\\Users\\basyr\\.conda\\envs\\FPI\\Lib\\site-packages)\n",
      "WARNING: Ignoring invalid distribution ~angchain-community (C:\\Users\\basyr\\.conda\\envs\\FPI\\Lib\\site-packages)\n",
      "WARNING: Ignoring invalid distribution ~angchain-community (C:\\Users\\basyr\\.conda\\envs\\FPI\\Lib\\site-packages)\n"
     ]
    },
    {
     "name": "stdout",
     "output_type": "stream",
     "text": [
      "Requirement already satisfied: langchain-community in c:\\users\\basyr\\.conda\\envs\\fpi\\lib\\site-packages (0.3.21)\n",
      "Requirement already satisfied: langchain-core<1.0.0,>=0.3.51 in c:\\users\\basyr\\.conda\\envs\\fpi\\lib\\site-packages (from langchain-community) (0.3.54)\n",
      "Requirement already satisfied: langchain<1.0.0,>=0.3.23 in c:\\users\\basyr\\.conda\\envs\\fpi\\lib\\site-packages (from langchain-community) (0.3.23)\n",
      "Requirement already satisfied: SQLAlchemy<3,>=1.4 in c:\\users\\basyr\\.conda\\envs\\fpi\\lib\\site-packages (from langchain-community) (2.0.37)\n",
      "Requirement already satisfied: requests<3,>=2 in c:\\users\\basyr\\.conda\\envs\\fpi\\lib\\site-packages (from langchain-community) (2.32.3)\n",
      "Requirement already satisfied: PyYAML>=5.3 in c:\\users\\basyr\\.conda\\envs\\fpi\\lib\\site-packages (from langchain-community) (6.0.2)\n",
      "Requirement already satisfied: aiohttp<4.0.0,>=3.8.3 in c:\\users\\basyr\\.conda\\envs\\fpi\\lib\\site-packages (from langchain-community) (3.11.10)\n",
      "Requirement already satisfied: tenacity!=8.4.0,<10,>=8.1.0 in c:\\users\\basyr\\.conda\\envs\\fpi\\lib\\site-packages (from langchain-community) (9.0.0)\n",
      "Requirement already satisfied: dataclasses-json<0.7,>=0.5.7 in c:\\users\\basyr\\.conda\\envs\\fpi\\lib\\site-packages (from langchain-community) (0.6.5)\n",
      "Requirement already satisfied: pydantic-settings<3.0.0,>=2.4.0 in c:\\users\\basyr\\.conda\\envs\\fpi\\lib\\site-packages (from langchain-community) (2.6.1)\n",
      "Requirement already satisfied: langsmith<0.4,>=0.1.125 in c:\\users\\basyr\\.conda\\envs\\fpi\\lib\\site-packages (from langchain-community) (0.1.147)\n",
      "Requirement already satisfied: httpx-sse<1.0.0,>=0.4.0 in c:\\users\\basyr\\.conda\\envs\\fpi\\lib\\site-packages (from langchain-community) (0.4.0)\n",
      "Requirement already satisfied: numpy<3,>=1.26.2 in c:\\users\\basyr\\.conda\\envs\\fpi\\lib\\site-packages (from langchain-community) (1.26.4)\n",
      "Requirement already satisfied: aiohappyeyeballs>=2.3.0 in c:\\users\\basyr\\.conda\\envs\\fpi\\lib\\site-packages (from aiohttp<4.0.0,>=3.8.3->langchain-community) (2.4.4)\n",
      "Requirement already satisfied: aiosignal>=1.1.2 in c:\\users\\basyr\\.conda\\envs\\fpi\\lib\\site-packages (from aiohttp<4.0.0,>=3.8.3->langchain-community) (1.2.0)\n",
      "Requirement already satisfied: attrs>=17.3.0 in c:\\users\\basyr\\.conda\\envs\\fpi\\lib\\site-packages (from aiohttp<4.0.0,>=3.8.3->langchain-community) (24.3.0)\n",
      "Requirement already satisfied: frozenlist>=1.1.1 in c:\\users\\basyr\\.conda\\envs\\fpi\\lib\\site-packages (from aiohttp<4.0.0,>=3.8.3->langchain-community) (1.5.0)\n",
      "Requirement already satisfied: multidict<7.0,>=4.5 in c:\\users\\basyr\\.conda\\envs\\fpi\\lib\\site-packages (from aiohttp<4.0.0,>=3.8.3->langchain-community) (6.1.0)\n",
      "Requirement already satisfied: propcache>=0.2.0 in c:\\users\\basyr\\.conda\\envs\\fpi\\lib\\site-packages (from aiohttp<4.0.0,>=3.8.3->langchain-community) (0.3.1)\n",
      "Requirement already satisfied: yarl<2.0,>=1.17.0 in c:\\users\\basyr\\.conda\\envs\\fpi\\lib\\site-packages (from aiohttp<4.0.0,>=3.8.3->langchain-community) (1.18.0)\n",
      "Requirement already satisfied: marshmallow<4.0.0,>=3.18.0 in c:\\users\\basyr\\.conda\\envs\\fpi\\lib\\site-packages (from dataclasses-json<0.7,>=0.5.7->langchain-community) (3.19.0)\n",
      "Requirement already satisfied: typing-inspect<1,>=0.4.0 in c:\\users\\basyr\\.conda\\envs\\fpi\\lib\\site-packages (from dataclasses-json<0.7,>=0.5.7->langchain-community) (0.9.0)\n",
      "Requirement already satisfied: langchain-text-splitters<1.0.0,>=0.3.8 in c:\\users\\basyr\\.conda\\envs\\fpi\\lib\\site-packages (from langchain<1.0.0,>=0.3.23->langchain-community) (0.3.8)\n",
      "Requirement already satisfied: pydantic<3.0.0,>=2.7.4 in c:\\users\\basyr\\.conda\\envs\\fpi\\lib\\site-packages (from langchain<1.0.0,>=0.3.23->langchain-community) (2.11.3)\n",
      "Requirement already satisfied: jsonpatch<2.0,>=1.33 in c:\\users\\basyr\\.conda\\envs\\fpi\\lib\\site-packages (from langchain-core<1.0.0,>=0.3.51->langchain-community) (1.33)\n",
      "Requirement already satisfied: packaging<25,>=23.2 in c:\\users\\basyr\\.conda\\envs\\fpi\\lib\\site-packages (from langchain-core<1.0.0,>=0.3.51->langchain-community) (24.2)\n",
      "Requirement already satisfied: typing-extensions>=4.7 in c:\\users\\basyr\\.conda\\envs\\fpi\\lib\\site-packages (from langchain-core<1.0.0,>=0.3.51->langchain-community) (4.12.2)\n",
      "Requirement already satisfied: httpx<1,>=0.23.0 in c:\\users\\basyr\\.conda\\envs\\fpi\\lib\\site-packages (from langsmith<0.4,>=0.1.125->langchain-community) (0.27.0)\n",
      "Requirement already satisfied: orjson<4.0.0,>=3.9.14 in c:\\users\\basyr\\.conda\\envs\\fpi\\lib\\site-packages (from langsmith<0.4,>=0.1.125->langchain-community) (3.10.14)\n",
      "Requirement already satisfied: requests-toolbelt<2.0.0,>=1.0.0 in c:\\users\\basyr\\.conda\\envs\\fpi\\lib\\site-packages (from langsmith<0.4,>=0.1.125->langchain-community) (1.0.0)\n",
      "Requirement already satisfied: python-dotenv>=0.21.0 in c:\\users\\basyr\\.conda\\envs\\fpi\\lib\\site-packages (from pydantic-settings<3.0.0,>=2.4.0->langchain-community) (0.21.0)\n",
      "Requirement already satisfied: charset-normalizer<4,>=2 in c:\\users\\basyr\\.conda\\envs\\fpi\\lib\\site-packages (from requests<3,>=2->langchain-community) (3.3.2)\n",
      "Requirement already satisfied: idna<4,>=2.5 in c:\\users\\basyr\\.conda\\envs\\fpi\\lib\\site-packages (from requests<3,>=2->langchain-community) (3.10)\n",
      "Requirement already satisfied: urllib3<3,>=1.21.1 in c:\\users\\basyr\\.conda\\envs\\fpi\\lib\\site-packages (from requests<3,>=2->langchain-community) (2.3.0)\n",
      "Requirement already satisfied: certifi>=2017.4.17 in c:\\users\\basyr\\.conda\\envs\\fpi\\lib\\site-packages (from requests<3,>=2->langchain-community) (2025.1.31)\n",
      "Requirement already satisfied: greenlet!=0.4.17 in c:\\users\\basyr\\.conda\\envs\\fpi\\lib\\site-packages (from SQLAlchemy<3,>=1.4->langchain-community) (3.1.1)\n",
      "Requirement already satisfied: anyio in c:\\users\\basyr\\.conda\\envs\\fpi\\lib\\site-packages (from httpx<1,>=0.23.0->langsmith<0.4,>=0.1.125->langchain-community) (4.6.2)\n",
      "Requirement already satisfied: httpcore==1.* in c:\\users\\basyr\\.conda\\envs\\fpi\\lib\\site-packages (from httpx<1,>=0.23.0->langsmith<0.4,>=0.1.125->langchain-community) (1.0.2)\n",
      "Requirement already satisfied: sniffio in c:\\users\\basyr\\.conda\\envs\\fpi\\lib\\site-packages (from httpx<1,>=0.23.0->langsmith<0.4,>=0.1.125->langchain-community) (1.3.0)\n",
      "Requirement already satisfied: h11<0.15,>=0.13 in c:\\users\\basyr\\.conda\\envs\\fpi\\lib\\site-packages (from httpcore==1.*->httpx<1,>=0.23.0->langsmith<0.4,>=0.1.125->langchain-community) (0.14.0)\n",
      "Requirement already satisfied: jsonpointer>=1.9 in c:\\users\\basyr\\.conda\\envs\\fpi\\lib\\site-packages (from jsonpatch<2.0,>=1.33->langchain-core<1.0.0,>=0.3.51->langchain-community) (2.1)\n",
      "Requirement already satisfied: annotated-types>=0.6.0 in c:\\users\\basyr\\.conda\\envs\\fpi\\lib\\site-packages (from pydantic<3.0.0,>=2.7.4->langchain<1.0.0,>=0.3.23->langchain-community) (0.6.0)\n",
      "Requirement already satisfied: pydantic-core==2.33.1 in c:\\users\\basyr\\.conda\\envs\\fpi\\lib\\site-packages (from pydantic<3.0.0,>=2.7.4->langchain<1.0.0,>=0.3.23->langchain-community) (2.33.1)\n",
      "Requirement already satisfied: typing-inspection>=0.4.0 in c:\\users\\basyr\\.conda\\envs\\fpi\\lib\\site-packages (from pydantic<3.0.0,>=2.7.4->langchain<1.0.0,>=0.3.23->langchain-community) (0.4.0)\n",
      "Requirement already satisfied: mypy-extensions>=0.3.0 in c:\\users\\basyr\\.conda\\envs\\fpi\\lib\\site-packages (from typing-inspect<1,>=0.4.0->dataclasses-json<0.7,>=0.5.7->langchain-community) (1.0.0)\n"
     ]
    },
    {
     "name": "stderr",
     "output_type": "stream",
     "text": [
      "WARNING: Ignoring invalid distribution ~angchain-community (C:\\Users\\basyr\\.conda\\envs\\FPI\\Lib\\site-packages)\n",
      "WARNING: Ignoring invalid distribution ~angchain-community (C:\\Users\\basyr\\.conda\\envs\\FPI\\Lib\\site-packages)\n",
      "WARNING: Ignoring invalid distribution ~angchain-community (C:\\Users\\basyr\\.conda\\envs\\FPI\\Lib\\site-packages)\n"
     ]
    }
   ],
   "source": [
    "# Установка\n",
    "%pip install langchain langchain-community gigachat\n",
    "!pip install --upgrade langchain-community\n",
    "# Настройка\n",
    "import os\n",
    "from getpass import getpass\n",
    "\n",
    "# Получаем токен (или логин/пароль)\n",
    "if \"GIGACHAT_CREDENTIALS\" not in os.environ:\n",
    "    os.environ[\"GIGACHAT_CREDENTIALS\"] = getpass(\"Введите ваши credentials GigaChat: \")\n",
    "\n",
    "# Инициализация LLM\n",
    "from langchain_community.chat_models import GigaChat\n",
    "llm = GigaChat(verify_ssl_certs=False, scope=\"GIGACHAT_API_PERS\")\n"
   ]
  },
  {
   "cell_type": "code",
   "execution_count": 3,
   "metadata": {
    "id": "Ld4IshrcAsHg"
   },
   "outputs": [
    {
     "name": "stdout",
     "output_type": "stream",
     "text": [
      "Requirement already satisfied: unstructured in c:\\users\\basyr\\.conda\\envs\\fpi\\lib\\site-packages (0.17.2)\n",
      "Requirement already satisfied: chardet in c:\\users\\basyr\\.conda\\envs\\fpi\\lib\\site-packages (from unstructured) (5.2.0)\n",
      "Requirement already satisfied: filetype in c:\\users\\basyr\\.conda\\envs\\fpi\\lib\\site-packages (from unstructured) (1.2.0)\n",
      "Requirement already satisfied: python-magic in c:\\users\\basyr\\.conda\\envs\\fpi\\lib\\site-packages (from unstructured) (0.4.27)\n",
      "Requirement already satisfied: lxml in c:\\users\\basyr\\.conda\\envs\\fpi\\lib\\site-packages (from unstructured) (5.3.2)\n",
      "Requirement already satisfied: nltk in c:\\users\\basyr\\.conda\\envs\\fpi\\lib\\site-packages (from unstructured) (3.9.1)\n",
      "Requirement already satisfied: requests in c:\\users\\basyr\\.conda\\envs\\fpi\\lib\\site-packages (from unstructured) (2.32.3)\n",
      "Requirement already satisfied: beautifulsoup4 in c:\\users\\basyr\\.conda\\envs\\fpi\\lib\\site-packages (from unstructured) (4.13.4)\n",
      "Requirement already satisfied: emoji in c:\\users\\basyr\\.conda\\envs\\fpi\\lib\\site-packages (from unstructured) (2.14.1)\n",
      "Requirement already satisfied: dataclasses-json in c:\\users\\basyr\\.conda\\envs\\fpi\\lib\\site-packages (from unstructured) (0.6.5)\n",
      "Requirement already satisfied: python-iso639 in c:\\users\\basyr\\.conda\\envs\\fpi\\lib\\site-packages (from unstructured) (2025.2.18)\n",
      "Requirement already satisfied: langdetect in c:\\users\\basyr\\.conda\\envs\\fpi\\lib\\site-packages (from unstructured) (1.0.9)\n",
      "Requirement already satisfied: numpy in c:\\users\\basyr\\.conda\\envs\\fpi\\lib\\site-packages (from unstructured) (1.26.4)\n",
      "Requirement already satisfied: rapidfuzz in c:\\users\\basyr\\.conda\\envs\\fpi\\lib\\site-packages (from unstructured) (3.13.0)\n",
      "Requirement already satisfied: backoff in c:\\users\\basyr\\.conda\\envs\\fpi\\lib\\site-packages (from unstructured) (2.2.1)\n",
      "Requirement already satisfied: typing-extensions in c:\\users\\basyr\\.conda\\envs\\fpi\\lib\\site-packages (from unstructured) (4.12.2)\n",
      "Requirement already satisfied: unstructured-client in c:\\users\\basyr\\.conda\\envs\\fpi\\lib\\site-packages (from unstructured) (0.33.0)\n",
      "Requirement already satisfied: wrapt in c:\\users\\basyr\\.conda\\envs\\fpi\\lib\\site-packages (from unstructured) (1.17.2)\n",
      "Requirement already satisfied: tqdm in c:\\users\\basyr\\.conda\\envs\\fpi\\lib\\site-packages (from unstructured) (4.67.1)\n",
      "Requirement already satisfied: psutil in c:\\users\\basyr\\.conda\\envs\\fpi\\lib\\site-packages (from unstructured) (7.0.0)\n",
      "Requirement already satisfied: python-oxmsg in c:\\users\\basyr\\.conda\\envs\\fpi\\lib\\site-packages (from unstructured) (0.0.2)\n",
      "Requirement already satisfied: html5lib in c:\\users\\basyr\\.conda\\envs\\fpi\\lib\\site-packages (from unstructured) (1.1)\n",
      "Requirement already satisfied: soupsieve>1.2 in c:\\users\\basyr\\.conda\\envs\\fpi\\lib\\site-packages (from beautifulsoup4->unstructured) (2.6)\n",
      "Requirement already satisfied: marshmallow<4.0.0,>=3.18.0 in c:\\users\\basyr\\.conda\\envs\\fpi\\lib\\site-packages (from dataclasses-json->unstructured) (3.19.0)\n",
      "Requirement already satisfied: typing-inspect<1,>=0.4.0 in c:\\users\\basyr\\.conda\\envs\\fpi\\lib\\site-packages (from dataclasses-json->unstructured) (0.9.0)\n",
      "Requirement already satisfied: six>=1.9 in c:\\users\\basyr\\.conda\\envs\\fpi\\lib\\site-packages (from html5lib->unstructured) (1.17.0)\n",
      "Requirement already satisfied: webencodings in c:\\users\\basyr\\.conda\\envs\\fpi\\lib\\site-packages (from html5lib->unstructured) (0.5.1)\n",
      "Requirement already satisfied: click in c:\\users\\basyr\\.conda\\envs\\fpi\\lib\\site-packages (from nltk->unstructured) (8.1.8)\n",
      "Requirement already satisfied: joblib in c:\\users\\basyr\\.conda\\envs\\fpi\\lib\\site-packages (from nltk->unstructured) (1.4.2)\n",
      "Requirement already satisfied: regex>=2021.8.3 in c:\\users\\basyr\\.conda\\envs\\fpi\\lib\\site-packages (from nltk->unstructured) (2024.11.6)\n",
      "Requirement already satisfied: olefile in c:\\users\\basyr\\.conda\\envs\\fpi\\lib\\site-packages (from python-oxmsg->unstructured) (0.47)\n",
      "Requirement already satisfied: charset-normalizer<4,>=2 in c:\\users\\basyr\\.conda\\envs\\fpi\\lib\\site-packages (from requests->unstructured) (3.3.2)\n",
      "Requirement already satisfied: idna<4,>=2.5 in c:\\users\\basyr\\.conda\\envs\\fpi\\lib\\site-packages (from requests->unstructured) (3.10)\n",
      "Requirement already satisfied: urllib3<3,>=1.21.1 in c:\\users\\basyr\\.conda\\envs\\fpi\\lib\\site-packages (from requests->unstructured) (2.3.0)\n",
      "Requirement already satisfied: certifi>=2017.4.17 in c:\\users\\basyr\\.conda\\envs\\fpi\\lib\\site-packages (from requests->unstructured) (2025.1.31)\n",
      "Requirement already satisfied: colorama in c:\\users\\basyr\\.conda\\envs\\fpi\\lib\\site-packages (from tqdm->unstructured) (0.4.6)\n",
      "Requirement already satisfied: aiofiles>=24.1.0 in c:\\users\\basyr\\.conda\\envs\\fpi\\lib\\site-packages (from unstructured-client->unstructured) (24.1.0)\n",
      "Requirement already satisfied: cryptography>=3.1 in c:\\users\\basyr\\.conda\\envs\\fpi\\lib\\site-packages (from unstructured-client->unstructured) (44.0.2)\n",
      "Requirement already satisfied: eval-type-backport>=0.2.0 in c:\\users\\basyr\\.conda\\envs\\fpi\\lib\\site-packages (from unstructured-client->unstructured) (0.2.2)\n",
      "Requirement already satisfied: httpx>=0.27.0 in c:\\users\\basyr\\.conda\\envs\\fpi\\lib\\site-packages (from unstructured-client->unstructured) (0.27.0)\n",
      "Requirement already satisfied: nest-asyncio>=1.6.0 in c:\\users\\basyr\\.conda\\envs\\fpi\\lib\\site-packages (from unstructured-client->unstructured) (1.6.0)\n",
      "Requirement already satisfied: pydantic>=2.11.2 in c:\\users\\basyr\\.conda\\envs\\fpi\\lib\\site-packages (from unstructured-client->unstructured) (2.11.3)\n",
      "Requirement already satisfied: pypdf>=4.0 in c:\\users\\basyr\\.conda\\envs\\fpi\\lib\\site-packages (from unstructured-client->unstructured) (5.4.0)\n",
      "Requirement already satisfied: python-dateutil>=2.8.2 in c:\\users\\basyr\\.conda\\envs\\fpi\\lib\\site-packages (from unstructured-client->unstructured) (2.9.0.post0)\n",
      "Requirement already satisfied: requests-toolbelt>=1.0.0 in c:\\users\\basyr\\.conda\\envs\\fpi\\lib\\site-packages (from unstructured-client->unstructured) (1.0.0)\n",
      "Requirement already satisfied: typing-inspection>=0.4.0 in c:\\users\\basyr\\.conda\\envs\\fpi\\lib\\site-packages (from unstructured-client->unstructured) (0.4.0)\n",
      "Requirement already satisfied: cffi>=1.12 in c:\\users\\basyr\\.conda\\envs\\fpi\\lib\\site-packages (from cryptography>=3.1->unstructured-client->unstructured) (1.17.1)\n",
      "Requirement already satisfied: anyio in c:\\users\\basyr\\.conda\\envs\\fpi\\lib\\site-packages (from httpx>=0.27.0->unstructured-client->unstructured) (4.6.2)\n",
      "Requirement already satisfied: httpcore==1.* in c:\\users\\basyr\\.conda\\envs\\fpi\\lib\\site-packages (from httpx>=0.27.0->unstructured-client->unstructured) (1.0.2)\n",
      "Requirement already satisfied: sniffio in c:\\users\\basyr\\.conda\\envs\\fpi\\lib\\site-packages (from httpx>=0.27.0->unstructured-client->unstructured) (1.3.0)\n",
      "Requirement already satisfied: h11<0.15,>=0.13 in c:\\users\\basyr\\.conda\\envs\\fpi\\lib\\site-packages (from httpcore==1.*->httpx>=0.27.0->unstructured-client->unstructured) (0.14.0)\n",
      "Requirement already satisfied: packaging>=17.0 in c:\\users\\basyr\\.conda\\envs\\fpi\\lib\\site-packages (from marshmallow<4.0.0,>=3.18.0->dataclasses-json->unstructured) (24.2)\n",
      "Requirement already satisfied: annotated-types>=0.6.0 in c:\\users\\basyr\\.conda\\envs\\fpi\\lib\\site-packages (from pydantic>=2.11.2->unstructured-client->unstructured) (0.6.0)\n",
      "Requirement already satisfied: pydantic-core==2.33.1 in c:\\users\\basyr\\.conda\\envs\\fpi\\lib\\site-packages (from pydantic>=2.11.2->unstructured-client->unstructured) (2.33.1)\n",
      "Requirement already satisfied: mypy-extensions>=0.3.0 in c:\\users\\basyr\\.conda\\envs\\fpi\\lib\\site-packages (from typing-inspect<1,>=0.4.0->dataclasses-json->unstructured) (1.0.0)\n",
      "Requirement already satisfied: pycparser in c:\\users\\basyr\\.conda\\envs\\fpi\\lib\\site-packages (from cffi>=1.12->cryptography>=3.1->unstructured-client->unstructured) (2.22)\n",
      "Note: you may need to restart the kernel to use updated packages.\n"
     ]
    },
    {
     "name": "stderr",
     "output_type": "stream",
     "text": [
      "WARNING: Ignoring invalid distribution ~angchain-community (C:\\Users\\basyr\\.conda\\envs\\FPI\\Lib\\site-packages)\n",
      "WARNING: Ignoring invalid distribution ~angchain-community (C:\\Users\\basyr\\.conda\\envs\\FPI\\Lib\\site-packages)\n",
      "WARNING: Ignoring invalid distribution ~angchain-community (C:\\Users\\basyr\\.conda\\envs\\FPI\\Lib\\site-packages)\n"
     ]
    },
    {
     "name": "stdout",
     "output_type": "stream",
     "text": [
      "Requirement already satisfied: unstructured[pdf] in c:\\users\\basyr\\.conda\\envs\\fpi\\lib\\site-packages (0.17.2)\n",
      "Requirement already satisfied: chardet in c:\\users\\basyr\\.conda\\envs\\fpi\\lib\\site-packages (from unstructured[pdf]) (5.2.0)\n",
      "Requirement already satisfied: filetype in c:\\users\\basyr\\.conda\\envs\\fpi\\lib\\site-packages (from unstructured[pdf]) (1.2.0)\n",
      "Requirement already satisfied: python-magic in c:\\users\\basyr\\.conda\\envs\\fpi\\lib\\site-packages (from unstructured[pdf]) (0.4.27)\n",
      "Requirement already satisfied: lxml in c:\\users\\basyr\\.conda\\envs\\fpi\\lib\\site-packages (from unstructured[pdf]) (5.3.2)\n",
      "Requirement already satisfied: nltk in c:\\users\\basyr\\.conda\\envs\\fpi\\lib\\site-packages (from unstructured[pdf]) (3.9.1)\n",
      "Requirement already satisfied: requests in c:\\users\\basyr\\.conda\\envs\\fpi\\lib\\site-packages (from unstructured[pdf]) (2.32.3)\n",
      "Requirement already satisfied: beautifulsoup4 in c:\\users\\basyr\\.conda\\envs\\fpi\\lib\\site-packages (from unstructured[pdf]) (4.13.4)\n",
      "Requirement already satisfied: emoji in c:\\users\\basyr\\.conda\\envs\\fpi\\lib\\site-packages (from unstructured[pdf]) (2.14.1)\n",
      "Requirement already satisfied: dataclasses-json in c:\\users\\basyr\\.conda\\envs\\fpi\\lib\\site-packages (from unstructured[pdf]) (0.6.5)\n",
      "Requirement already satisfied: python-iso639 in c:\\users\\basyr\\.conda\\envs\\fpi\\lib\\site-packages (from unstructured[pdf]) (2025.2.18)\n",
      "Requirement already satisfied: langdetect in c:\\users\\basyr\\.conda\\envs\\fpi\\lib\\site-packages (from unstructured[pdf]) (1.0.9)\n",
      "Requirement already satisfied: numpy in c:\\users\\basyr\\.conda\\envs\\fpi\\lib\\site-packages (from unstructured[pdf]) (1.26.4)\n",
      "Requirement already satisfied: rapidfuzz in c:\\users\\basyr\\.conda\\envs\\fpi\\lib\\site-packages (from unstructured[pdf]) (3.13.0)\n",
      "Requirement already satisfied: backoff in c:\\users\\basyr\\.conda\\envs\\fpi\\lib\\site-packages (from unstructured[pdf]) (2.2.1)\n",
      "Requirement already satisfied: typing-extensions in c:\\users\\basyr\\.conda\\envs\\fpi\\lib\\site-packages (from unstructured[pdf]) (4.12.2)\n",
      "Requirement already satisfied: unstructured-client in c:\\users\\basyr\\.conda\\envs\\fpi\\lib\\site-packages (from unstructured[pdf]) (0.33.0)\n",
      "Requirement already satisfied: wrapt in c:\\users\\basyr\\.conda\\envs\\fpi\\lib\\site-packages (from unstructured[pdf]) (1.17.2)\n",
      "Requirement already satisfied: tqdm in c:\\users\\basyr\\.conda\\envs\\fpi\\lib\\site-packages (from unstructured[pdf]) (4.67.1)\n",
      "Requirement already satisfied: psutil in c:\\users\\basyr\\.conda\\envs\\fpi\\lib\\site-packages (from unstructured[pdf]) (7.0.0)\n",
      "Requirement already satisfied: python-oxmsg in c:\\users\\basyr\\.conda\\envs\\fpi\\lib\\site-packages (from unstructured[pdf]) (0.0.2)\n",
      "Requirement already satisfied: html5lib in c:\\users\\basyr\\.conda\\envs\\fpi\\lib\\site-packages (from unstructured[pdf]) (1.1)\n",
      "Requirement already satisfied: onnx>=1.17.0 in c:\\users\\basyr\\.conda\\envs\\fpi\\lib\\site-packages (from unstructured[pdf]) (1.17.0)\n",
      "Requirement already satisfied: onnxruntime>=1.19.0 in c:\\users\\basyr\\.conda\\envs\\fpi\\lib\\site-packages (from unstructured[pdf]) (1.21.1)\n",
      "Requirement already satisfied: pdf2image in c:\\users\\basyr\\.conda\\envs\\fpi\\lib\\site-packages (from unstructured[pdf]) (1.17.0)\n",
      "Requirement already satisfied: pdfminer.six in c:\\users\\basyr\\.conda\\envs\\fpi\\lib\\site-packages (from unstructured[pdf]) (20250416)\n",
      "Requirement already satisfied: pikepdf in c:\\users\\basyr\\.conda\\envs\\fpi\\lib\\site-packages (from unstructured[pdf]) (9.7.0)\n",
      "Requirement already satisfied: pi-heif in c:\\users\\basyr\\.conda\\envs\\fpi\\lib\\site-packages (from unstructured[pdf]) (0.22.0)\n",
      "Requirement already satisfied: pypdf in c:\\users\\basyr\\.conda\\envs\\fpi\\lib\\site-packages (from unstructured[pdf]) (5.4.0)\n",
      "Requirement already satisfied: google-cloud-vision in c:\\users\\basyr\\.conda\\envs\\fpi\\lib\\site-packages (from unstructured[pdf]) (3.10.1)\n",
      "Requirement already satisfied: effdet in c:\\users\\basyr\\.conda\\envs\\fpi\\lib\\site-packages (from unstructured[pdf]) (0.4.1)\n",
      "Requirement already satisfied: unstructured-inference>=0.8.10 in c:\\users\\basyr\\.conda\\envs\\fpi\\lib\\site-packages (from unstructured[pdf]) (0.8.10)\n",
      "Requirement already satisfied: unstructured.pytesseract>=0.3.12 in c:\\users\\basyr\\.conda\\envs\\fpi\\lib\\site-packages (from unstructured[pdf]) (0.3.15)\n",
      "Requirement already satisfied: protobuf>=3.20.2 in c:\\users\\basyr\\.conda\\envs\\fpi\\lib\\site-packages (from onnx>=1.17.0->unstructured[pdf]) (6.30.2)\n",
      "Requirement already satisfied: coloredlogs in c:\\users\\basyr\\.conda\\envs\\fpi\\lib\\site-packages (from onnxruntime>=1.19.0->unstructured[pdf]) (15.0.1)\n",
      "Requirement already satisfied: flatbuffers in c:\\users\\basyr\\.conda\\envs\\fpi\\lib\\site-packages (from onnxruntime>=1.19.0->unstructured[pdf]) (25.2.10)\n",
      "Requirement already satisfied: packaging in c:\\users\\basyr\\.conda\\envs\\fpi\\lib\\site-packages (from onnxruntime>=1.19.0->unstructured[pdf]) (24.2)\n",
      "Requirement already satisfied: sympy in c:\\users\\basyr\\.conda\\envs\\fpi\\lib\\site-packages (from onnxruntime>=1.19.0->unstructured[pdf]) (1.13.1)\n",
      "Requirement already satisfied: python-multipart in c:\\users\\basyr\\.conda\\envs\\fpi\\lib\\site-packages (from unstructured-inference>=0.8.10->unstructured[pdf]) (0.0.20)\n",
      "Requirement already satisfied: huggingface-hub in c:\\users\\basyr\\.conda\\envs\\fpi\\lib\\site-packages (from unstructured-inference>=0.8.10->unstructured[pdf]) (0.30.2)\n",
      "Requirement already satisfied: opencv-python!=4.7.0.68 in c:\\users\\basyr\\.conda\\envs\\fpi\\lib\\site-packages (from unstructured-inference>=0.8.10->unstructured[pdf]) (4.11.0.86)\n",
      "Requirement already satisfied: matplotlib in c:\\users\\basyr\\.conda\\envs\\fpi\\lib\\site-packages (from unstructured-inference>=0.8.10->unstructured[pdf]) (3.10.1)\n",
      "Requirement already satisfied: torch in c:\\users\\basyr\\.conda\\envs\\fpi\\lib\\site-packages (from unstructured-inference>=0.8.10->unstructured[pdf]) (2.6.0)\n",
      "Requirement already satisfied: timm in c:\\users\\basyr\\.conda\\envs\\fpi\\lib\\site-packages (from unstructured-inference>=0.8.10->unstructured[pdf]) (1.0.15)\n",
      "Requirement already satisfied: transformers>=4.25.1 in c:\\users\\basyr\\.conda\\envs\\fpi\\lib\\site-packages (from unstructured-inference>=0.8.10->unstructured[pdf]) (4.51.3)\n",
      "Requirement already satisfied: pandas in c:\\users\\basyr\\.conda\\envs\\fpi\\lib\\site-packages (from unstructured-inference>=0.8.10->unstructured[pdf]) (2.2.3)\n",
      "Requirement already satisfied: scipy in c:\\users\\basyr\\.conda\\envs\\fpi\\lib\\site-packages (from unstructured-inference>=0.8.10->unstructured[pdf]) (1.15.2)\n",
      "Requirement already satisfied: pypdfium2 in c:\\users\\basyr\\.conda\\envs\\fpi\\lib\\site-packages (from unstructured-inference>=0.8.10->unstructured[pdf]) (4.30.1)\n",
      "Requirement already satisfied: Pillow>=8.0.0 in c:\\users\\basyr\\.conda\\envs\\fpi\\lib\\site-packages (from unstructured.pytesseract>=0.3.12->unstructured[pdf]) (11.2.1)\n",
      "Requirement already satisfied: soupsieve>1.2 in c:\\users\\basyr\\.conda\\envs\\fpi\\lib\\site-packages (from beautifulsoup4->unstructured[pdf]) (2.6)\n",
      "Requirement already satisfied: marshmallow<4.0.0,>=3.18.0 in c:\\users\\basyr\\.conda\\envs\\fpi\\lib\\site-packages (from dataclasses-json->unstructured[pdf]) (3.19.0)\n",
      "Requirement already satisfied: typing-inspect<1,>=0.4.0 in c:\\users\\basyr\\.conda\\envs\\fpi\\lib\\site-packages (from dataclasses-json->unstructured[pdf]) (0.9.0)\n",
      "Requirement already satisfied: torchvision in c:\\users\\basyr\\.conda\\envs\\fpi\\lib\\site-packages (from effdet->unstructured[pdf]) (0.21.0)\n",
      "Requirement already satisfied: pycocotools>=2.0.2 in c:\\users\\basyr\\.conda\\envs\\fpi\\lib\\site-packages (from effdet->unstructured[pdf]) (2.0.8)\n",
      "Requirement already satisfied: omegaconf>=2.0 in c:\\users\\basyr\\.conda\\envs\\fpi\\lib\\site-packages (from effdet->unstructured[pdf]) (2.3.0)\n",
      "Requirement already satisfied: google-api-core!=2.0.*,!=2.1.*,!=2.10.*,!=2.2.*,!=2.3.*,!=2.4.*,!=2.5.*,!=2.6.*,!=2.7.*,!=2.8.*,!=2.9.*,<3.0.0,>=1.34.1 in c:\\users\\basyr\\.conda\\envs\\fpi\\lib\\site-packages (from google-api-core[grpc]!=2.0.*,!=2.1.*,!=2.10.*,!=2.2.*,!=2.3.*,!=2.4.*,!=2.5.*,!=2.6.*,!=2.7.*,!=2.8.*,!=2.9.*,<3.0.0,>=1.34.1->google-cloud-vision->unstructured[pdf]) (2.24.2)\n",
      "Requirement already satisfied: google-auth!=2.24.0,!=2.25.0,<3.0.0,>=2.14.1 in c:\\users\\basyr\\.conda\\envs\\fpi\\lib\\site-packages (from google-cloud-vision->unstructured[pdf]) (2.39.0)\n",
      "Requirement already satisfied: proto-plus<2.0.0,>=1.22.3 in c:\\users\\basyr\\.conda\\envs\\fpi\\lib\\site-packages (from google-cloud-vision->unstructured[pdf]) (1.26.1)\n",
      "Requirement already satisfied: six>=1.9 in c:\\users\\basyr\\.conda\\envs\\fpi\\lib\\site-packages (from html5lib->unstructured[pdf]) (1.17.0)\n",
      "Requirement already satisfied: webencodings in c:\\users\\basyr\\.conda\\envs\\fpi\\lib\\site-packages (from html5lib->unstructured[pdf]) (0.5.1)\n",
      "Requirement already satisfied: click in c:\\users\\basyr\\.conda\\envs\\fpi\\lib\\site-packages (from nltk->unstructured[pdf]) (8.1.8)\n",
      "Requirement already satisfied: joblib in c:\\users\\basyr\\.conda\\envs\\fpi\\lib\\site-packages (from nltk->unstructured[pdf]) (1.4.2)\n",
      "Requirement already satisfied: regex>=2021.8.3 in c:\\users\\basyr\\.conda\\envs\\fpi\\lib\\site-packages (from nltk->unstructured[pdf]) (2024.11.6)\n",
      "Requirement already satisfied: charset-normalizer>=2.0.0 in c:\\users\\basyr\\.conda\\envs\\fpi\\lib\\site-packages (from pdfminer.six->unstructured[pdf]) (3.3.2)\n",
      "Requirement already satisfied: cryptography>=36.0.0 in c:\\users\\basyr\\.conda\\envs\\fpi\\lib\\site-packages (from pdfminer.six->unstructured[pdf]) (44.0.2)\n",
      "Requirement already satisfied: Deprecated in c:\\users\\basyr\\.conda\\envs\\fpi\\lib\\site-packages (from pikepdf->unstructured[pdf]) (1.2.18)\n",
      "Requirement already satisfied: olefile in c:\\users\\basyr\\.conda\\envs\\fpi\\lib\\site-packages (from python-oxmsg->unstructured[pdf]) (0.47)\n",
      "Requirement already satisfied: idna<4,>=2.5 in c:\\users\\basyr\\.conda\\envs\\fpi\\lib\\site-packages (from requests->unstructured[pdf]) (3.10)\n",
      "Requirement already satisfied: urllib3<3,>=1.21.1 in c:\\users\\basyr\\.conda\\envs\\fpi\\lib\\site-packages (from requests->unstructured[pdf]) (2.3.0)\n",
      "Requirement already satisfied: certifi>=2017.4.17 in c:\\users\\basyr\\.conda\\envs\\fpi\\lib\\site-packages (from requests->unstructured[pdf]) (2025.1.31)\n",
      "Requirement already satisfied: colorama in c:\\users\\basyr\\.conda\\envs\\fpi\\lib\\site-packages (from tqdm->unstructured[pdf]) (0.4.6)\n",
      "Requirement already satisfied: aiofiles>=24.1.0 in c:\\users\\basyr\\.conda\\envs\\fpi\\lib\\site-packages (from unstructured-client->unstructured[pdf]) (24.1.0)\n",
      "Requirement already satisfied: eval-type-backport>=0.2.0 in c:\\users\\basyr\\.conda\\envs\\fpi\\lib\\site-packages (from unstructured-client->unstructured[pdf]) (0.2.2)\n",
      "Requirement already satisfied: httpx>=0.27.0 in c:\\users\\basyr\\.conda\\envs\\fpi\\lib\\site-packages (from unstructured-client->unstructured[pdf]) (0.27.0)\n",
      "Requirement already satisfied: nest-asyncio>=1.6.0 in c:\\users\\basyr\\.conda\\envs\\fpi\\lib\\site-packages (from unstructured-client->unstructured[pdf]) (1.6.0)\n",
      "Requirement already satisfied: pydantic>=2.11.2 in c:\\users\\basyr\\.conda\\envs\\fpi\\lib\\site-packages (from unstructured-client->unstructured[pdf]) (2.11.3)\n",
      "Requirement already satisfied: python-dateutil>=2.8.2 in c:\\users\\basyr\\.conda\\envs\\fpi\\lib\\site-packages (from unstructured-client->unstructured[pdf]) (2.9.0.post0)\n",
      "Requirement already satisfied: requests-toolbelt>=1.0.0 in c:\\users\\basyr\\.conda\\envs\\fpi\\lib\\site-packages (from unstructured-client->unstructured[pdf]) (1.0.0)\n",
      "Requirement already satisfied: typing-inspection>=0.4.0 in c:\\users\\basyr\\.conda\\envs\\fpi\\lib\\site-packages (from unstructured-client->unstructured[pdf]) (0.4.0)\n",
      "Requirement already satisfied: cffi>=1.12 in c:\\users\\basyr\\.conda\\envs\\fpi\\lib\\site-packages (from cryptography>=36.0.0->pdfminer.six->unstructured[pdf]) (1.17.1)\n",
      "Requirement already satisfied: googleapis-common-protos<2.0.0,>=1.56.2 in c:\\users\\basyr\\.conda\\envs\\fpi\\lib\\site-packages (from google-api-core!=2.0.*,!=2.1.*,!=2.10.*,!=2.2.*,!=2.3.*,!=2.4.*,!=2.5.*,!=2.6.*,!=2.7.*,!=2.8.*,!=2.9.*,<3.0.0,>=1.34.1->google-api-core[grpc]!=2.0.*,!=2.1.*,!=2.10.*,!=2.2.*,!=2.3.*,!=2.4.*,!=2.5.*,!=2.6.*,!=2.7.*,!=2.8.*,!=2.9.*,<3.0.0,>=1.34.1->google-cloud-vision->unstructured[pdf]) (1.70.0)\n",
      "Requirement already satisfied: grpcio<2.0dev,>=1.33.2 in c:\\users\\basyr\\.conda\\envs\\fpi\\lib\\site-packages (from google-api-core[grpc]!=2.0.*,!=2.1.*,!=2.10.*,!=2.2.*,!=2.3.*,!=2.4.*,!=2.5.*,!=2.6.*,!=2.7.*,!=2.8.*,!=2.9.*,<3.0.0,>=1.34.1->google-cloud-vision->unstructured[pdf]) (1.72.0rc1)\n",
      "Requirement already satisfied: grpcio-status<2.0.dev0,>=1.33.2 in c:\\users\\basyr\\.conda\\envs\\fpi\\lib\\site-packages (from google-api-core[grpc]!=2.0.*,!=2.1.*,!=2.10.*,!=2.2.*,!=2.3.*,!=2.4.*,!=2.5.*,!=2.6.*,!=2.7.*,!=2.8.*,!=2.9.*,<3.0.0,>=1.34.1->google-cloud-vision->unstructured[pdf]) (1.72.0rc1)\n",
      "Requirement already satisfied: cachetools<6.0,>=2.0.0 in c:\\users\\basyr\\.conda\\envs\\fpi\\lib\\site-packages (from google-auth!=2.24.0,!=2.25.0,<3.0.0,>=2.14.1->google-cloud-vision->unstructured[pdf]) (5.5.2)\n",
      "Requirement already satisfied: pyasn1-modules>=0.2.1 in c:\\users\\basyr\\.conda\\envs\\fpi\\lib\\site-packages (from google-auth!=2.24.0,!=2.25.0,<3.0.0,>=2.14.1->google-cloud-vision->unstructured[pdf]) (0.4.2)\n",
      "Requirement already satisfied: rsa<5,>=3.1.4 in c:\\users\\basyr\\.conda\\envs\\fpi\\lib\\site-packages (from google-auth!=2.24.0,!=2.25.0,<3.0.0,>=2.14.1->google-cloud-vision->unstructured[pdf]) (4.9.1)\n",
      "Requirement already satisfied: anyio in c:\\users\\basyr\\.conda\\envs\\fpi\\lib\\site-packages (from httpx>=0.27.0->unstructured-client->unstructured[pdf]) (4.6.2)\n",
      "Requirement already satisfied: httpcore==1.* in c:\\users\\basyr\\.conda\\envs\\fpi\\lib\\site-packages (from httpx>=0.27.0->unstructured-client->unstructured[pdf]) (1.0.2)\n",
      "Requirement already satisfied: sniffio in c:\\users\\basyr\\.conda\\envs\\fpi\\lib\\site-packages (from httpx>=0.27.0->unstructured-client->unstructured[pdf]) (1.3.0)\n",
      "Requirement already satisfied: h11<0.15,>=0.13 in c:\\users\\basyr\\.conda\\envs\\fpi\\lib\\site-packages (from httpcore==1.*->httpx>=0.27.0->unstructured-client->unstructured[pdf]) (0.14.0)\n",
      "Requirement already satisfied: antlr4-python3-runtime==4.9.* in c:\\users\\basyr\\.conda\\envs\\fpi\\lib\\site-packages (from omegaconf>=2.0->effdet->unstructured[pdf]) (4.9.3)\n",
      "Requirement already satisfied: PyYAML>=5.1.0 in c:\\users\\basyr\\.conda\\envs\\fpi\\lib\\site-packages (from omegaconf>=2.0->effdet->unstructured[pdf]) (6.0.2)\n",
      "Requirement already satisfied: contourpy>=1.0.1 in c:\\users\\basyr\\.conda\\envs\\fpi\\lib\\site-packages (from matplotlib->unstructured-inference>=0.8.10->unstructured[pdf]) (1.3.2)\n",
      "Requirement already satisfied: cycler>=0.10 in c:\\users\\basyr\\.conda\\envs\\fpi\\lib\\site-packages (from matplotlib->unstructured-inference>=0.8.10->unstructured[pdf]) (0.12.1)\n",
      "Requirement already satisfied: fonttools>=4.22.0 in c:\\users\\basyr\\.conda\\envs\\fpi\\lib\\site-packages (from matplotlib->unstructured-inference>=0.8.10->unstructured[pdf]) (4.57.0)\n",
      "Requirement already satisfied: kiwisolver>=1.3.1 in c:\\users\\basyr\\.conda\\envs\\fpi\\lib\\site-packages (from matplotlib->unstructured-inference>=0.8.10->unstructured[pdf]) (1.4.8)\n",
      "Requirement already satisfied: pyparsing>=2.3.1 in c:\\users\\basyr\\.conda\\envs\\fpi\\lib\\site-packages (from matplotlib->unstructured-inference>=0.8.10->unstructured[pdf]) (3.2.3)\n",
      "Requirement already satisfied: annotated-types>=0.6.0 in c:\\users\\basyr\\.conda\\envs\\fpi\\lib\\site-packages (from pydantic>=2.11.2->unstructured-client->unstructured[pdf]) (0.6.0)\n",
      "Requirement already satisfied: pydantic-core==2.33.1 in c:\\users\\basyr\\.conda\\envs\\fpi\\lib\\site-packages (from pydantic>=2.11.2->unstructured-client->unstructured[pdf]) (2.33.1)\n",
      "Requirement already satisfied: safetensors in c:\\users\\basyr\\.conda\\envs\\fpi\\lib\\site-packages (from timm->unstructured-inference>=0.8.10->unstructured[pdf]) (0.5.3)\n",
      "Requirement already satisfied: filelock in c:\\users\\basyr\\.conda\\envs\\fpi\\lib\\site-packages (from torch->unstructured-inference>=0.8.10->unstructured[pdf]) (3.18.0)\n",
      "Requirement already satisfied: networkx in c:\\users\\basyr\\.conda\\envs\\fpi\\lib\\site-packages (from torch->unstructured-inference>=0.8.10->unstructured[pdf]) (3.4.2)\n",
      "Requirement already satisfied: jinja2 in c:\\users\\basyr\\.conda\\envs\\fpi\\lib\\site-packages (from torch->unstructured-inference>=0.8.10->unstructured[pdf]) (3.1.6)\n",
      "Requirement already satisfied: fsspec in c:\\users\\basyr\\.conda\\envs\\fpi\\lib\\site-packages (from torch->unstructured-inference>=0.8.10->unstructured[pdf]) (2025.3.2)\n",
      "Requirement already satisfied: setuptools in c:\\users\\basyr\\.conda\\envs\\fpi\\lib\\site-packages (from torch->unstructured-inference>=0.8.10->unstructured[pdf]) (75.8.0)\n",
      "Requirement already satisfied: mpmath<1.4,>=1.1.0 in c:\\users\\basyr\\.conda\\envs\\fpi\\lib\\site-packages (from sympy->onnxruntime>=1.19.0->unstructured[pdf]) (1.3.0)\n",
      "Requirement already satisfied: tokenizers<0.22,>=0.21 in c:\\users\\basyr\\.conda\\envs\\fpi\\lib\\site-packages (from transformers>=4.25.1->unstructured-inference>=0.8.10->unstructured[pdf]) (0.21.1)\n",
      "Requirement already satisfied: mypy-extensions>=0.3.0 in c:\\users\\basyr\\.conda\\envs\\fpi\\lib\\site-packages (from typing-inspect<1,>=0.4.0->dataclasses-json->unstructured[pdf]) (1.0.0)\n",
      "Requirement already satisfied: humanfriendly>=9.1 in c:\\users\\basyr\\.conda\\envs\\fpi\\lib\\site-packages (from coloredlogs->onnxruntime>=1.19.0->unstructured[pdf]) (10.0)\n",
      "Requirement already satisfied: pytz>=2020.1 in c:\\users\\basyr\\.conda\\envs\\fpi\\lib\\site-packages (from pandas->unstructured-inference>=0.8.10->unstructured[pdf]) (2025.2)\n",
      "Requirement already satisfied: tzdata>=2022.7 in c:\\users\\basyr\\.conda\\envs\\fpi\\lib\\site-packages (from pandas->unstructured-inference>=0.8.10->unstructured[pdf]) (2025.2)\n",
      "Requirement already satisfied: pycparser in c:\\users\\basyr\\.conda\\envs\\fpi\\lib\\site-packages (from cffi>=1.12->cryptography>=36.0.0->pdfminer.six->unstructured[pdf]) (2.22)\n",
      "Requirement already satisfied: pyreadline3 in c:\\users\\basyr\\.conda\\envs\\fpi\\lib\\site-packages (from humanfriendly>=9.1->coloredlogs->onnxruntime>=1.19.0->unstructured[pdf]) (3.5.4)\n",
      "Requirement already satisfied: pyasn1<0.7.0,>=0.6.1 in c:\\users\\basyr\\.conda\\envs\\fpi\\lib\\site-packages (from pyasn1-modules>=0.2.1->google-auth!=2.24.0,!=2.25.0,<3.0.0,>=2.14.1->google-cloud-vision->unstructured[pdf]) (0.6.1)\n",
      "Requirement already satisfied: MarkupSafe>=2.0 in c:\\users\\basyr\\.conda\\envs\\fpi\\lib\\site-packages (from jinja2->torch->unstructured-inference>=0.8.10->unstructured[pdf]) (3.0.2)\n",
      "Note: you may need to restart the kernel to use updated packages.\n"
     ]
    },
    {
     "name": "stderr",
     "output_type": "stream",
     "text": [
      "WARNING: Ignoring invalid distribution ~angchain-community (C:\\Users\\basyr\\.conda\\envs\\FPI\\Lib\\site-packages)\n",
      "WARNING: Ignoring invalid distribution ~angchain-community (C:\\Users\\basyr\\.conda\\envs\\FPI\\Lib\\site-packages)\n",
      "WARNING: Ignoring invalid distribution ~angchain-community (C:\\Users\\basyr\\.conda\\envs\\FPI\\Lib\\site-packages)\n"
     ]
    }
   ],
   "source": [
    "%pip install unstructured\n",
    "%pip install \"unstructured[pdf]\""
   ]
  },
  {
   "cell_type": "code",
   "execution_count": 4,
   "metadata": {
    "id": "FMzyOnIlCNkm"
   },
   "outputs": [
    {
     "name": "stdout",
     "output_type": "stream",
     "text": [
      "Requirement already satisfied: langchain-huggingface in c:\\users\\basyr\\.conda\\envs\\fpi\\lib\\site-packages (0.1.2)\n",
      "Requirement already satisfied: huggingface-hub>=0.23.0 in c:\\users\\basyr\\.conda\\envs\\fpi\\lib\\site-packages (from langchain-huggingface) (0.30.2)\n",
      "Requirement already satisfied: langchain-core<0.4.0,>=0.3.15 in c:\\users\\basyr\\.conda\\envs\\fpi\\lib\\site-packages (from langchain-huggingface) (0.3.54)\n",
      "Requirement already satisfied: sentence-transformers>=2.6.0 in c:\\users\\basyr\\.conda\\envs\\fpi\\lib\\site-packages (from langchain-huggingface) (4.1.0)\n",
      "Requirement already satisfied: tokenizers>=0.19.1 in c:\\users\\basyr\\.conda\\envs\\fpi\\lib\\site-packages (from langchain-huggingface) (0.21.1)\n",
      "Requirement already satisfied: transformers>=4.39.0 in c:\\users\\basyr\\.conda\\envs\\fpi\\lib\\site-packages (from langchain-huggingface) (4.51.3)\n",
      "Requirement already satisfied: filelock in c:\\users\\basyr\\.conda\\envs\\fpi\\lib\\site-packages (from huggingface-hub>=0.23.0->langchain-huggingface) (3.18.0)\n",
      "Requirement already satisfied: fsspec>=2023.5.0 in c:\\users\\basyr\\.conda\\envs\\fpi\\lib\\site-packages (from huggingface-hub>=0.23.0->langchain-huggingface) (2025.3.2)\n",
      "Requirement already satisfied: packaging>=20.9 in c:\\users\\basyr\\.conda\\envs\\fpi\\lib\\site-packages (from huggingface-hub>=0.23.0->langchain-huggingface) (24.2)\n",
      "Requirement already satisfied: pyyaml>=5.1 in c:\\users\\basyr\\.conda\\envs\\fpi\\lib\\site-packages (from huggingface-hub>=0.23.0->langchain-huggingface) (6.0.2)\n",
      "Requirement already satisfied: requests in c:\\users\\basyr\\.conda\\envs\\fpi\\lib\\site-packages (from huggingface-hub>=0.23.0->langchain-huggingface) (2.32.3)\n",
      "Requirement already satisfied: tqdm>=4.42.1 in c:\\users\\basyr\\.conda\\envs\\fpi\\lib\\site-packages (from huggingface-hub>=0.23.0->langchain-huggingface) (4.67.1)\n",
      "Requirement already satisfied: typing-extensions>=3.7.4.3 in c:\\users\\basyr\\.conda\\envs\\fpi\\lib\\site-packages (from huggingface-hub>=0.23.0->langchain-huggingface) (4.12.2)\n",
      "Requirement already satisfied: langsmith<0.4,>=0.1.125 in c:\\users\\basyr\\.conda\\envs\\fpi\\lib\\site-packages (from langchain-core<0.4.0,>=0.3.15->langchain-huggingface) (0.1.147)\n",
      "Requirement already satisfied: tenacity!=8.4.0,<10.0.0,>=8.1.0 in c:\\users\\basyr\\.conda\\envs\\fpi\\lib\\site-packages (from langchain-core<0.4.0,>=0.3.15->langchain-huggingface) (9.0.0)\n",
      "Requirement already satisfied: jsonpatch<2.0,>=1.33 in c:\\users\\basyr\\.conda\\envs\\fpi\\lib\\site-packages (from langchain-core<0.4.0,>=0.3.15->langchain-huggingface) (1.33)\n",
      "Requirement already satisfied: pydantic<3.0.0,>=2.7.4 in c:\\users\\basyr\\.conda\\envs\\fpi\\lib\\site-packages (from langchain-core<0.4.0,>=0.3.15->langchain-huggingface) (2.11.3)\n",
      "Requirement already satisfied: torch>=1.11.0 in c:\\users\\basyr\\.conda\\envs\\fpi\\lib\\site-packages (from sentence-transformers>=2.6.0->langchain-huggingface) (2.6.0)\n",
      "Requirement already satisfied: scikit-learn in c:\\users\\basyr\\.conda\\envs\\fpi\\lib\\site-packages (from sentence-transformers>=2.6.0->langchain-huggingface) (1.6.1)\n",
      "Requirement already satisfied: scipy in c:\\users\\basyr\\.conda\\envs\\fpi\\lib\\site-packages (from sentence-transformers>=2.6.0->langchain-huggingface) (1.15.2)\n",
      "Requirement already satisfied: Pillow in c:\\users\\basyr\\.conda\\envs\\fpi\\lib\\site-packages (from sentence-transformers>=2.6.0->langchain-huggingface) (11.2.1)\n",
      "Requirement already satisfied: numpy>=1.17 in c:\\users\\basyr\\.conda\\envs\\fpi\\lib\\site-packages (from transformers>=4.39.0->langchain-huggingface) (1.26.4)\n",
      "Requirement already satisfied: regex!=2019.12.17 in c:\\users\\basyr\\.conda\\envs\\fpi\\lib\\site-packages (from transformers>=4.39.0->langchain-huggingface) (2024.11.6)\n",
      "Requirement already satisfied: safetensors>=0.4.3 in c:\\users\\basyr\\.conda\\envs\\fpi\\lib\\site-packages (from transformers>=4.39.0->langchain-huggingface) (0.5.3)\n",
      "Requirement already satisfied: jsonpointer>=1.9 in c:\\users\\basyr\\.conda\\envs\\fpi\\lib\\site-packages (from jsonpatch<2.0,>=1.33->langchain-core<0.4.0,>=0.3.15->langchain-huggingface) (2.1)\n",
      "Requirement already satisfied: httpx<1,>=0.23.0 in c:\\users\\basyr\\.conda\\envs\\fpi\\lib\\site-packages (from langsmith<0.4,>=0.1.125->langchain-core<0.4.0,>=0.3.15->langchain-huggingface) (0.27.0)\n",
      "Requirement already satisfied: orjson<4.0.0,>=3.9.14 in c:\\users\\basyr\\.conda\\envs\\fpi\\lib\\site-packages (from langsmith<0.4,>=0.1.125->langchain-core<0.4.0,>=0.3.15->langchain-huggingface) (3.10.14)\n",
      "Requirement already satisfied: requests-toolbelt<2.0.0,>=1.0.0 in c:\\users\\basyr\\.conda\\envs\\fpi\\lib\\site-packages (from langsmith<0.4,>=0.1.125->langchain-core<0.4.0,>=0.3.15->langchain-huggingface) (1.0.0)\n",
      "Requirement already satisfied: annotated-types>=0.6.0 in c:\\users\\basyr\\.conda\\envs\\fpi\\lib\\site-packages (from pydantic<3.0.0,>=2.7.4->langchain-core<0.4.0,>=0.3.15->langchain-huggingface) (0.6.0)\n",
      "Requirement already satisfied: pydantic-core==2.33.1 in c:\\users\\basyr\\.conda\\envs\\fpi\\lib\\site-packages (from pydantic<3.0.0,>=2.7.4->langchain-core<0.4.0,>=0.3.15->langchain-huggingface) (2.33.1)\n",
      "Requirement already satisfied: typing-inspection>=0.4.0 in c:\\users\\basyr\\.conda\\envs\\fpi\\lib\\site-packages (from pydantic<3.0.0,>=2.7.4->langchain-core<0.4.0,>=0.3.15->langchain-huggingface) (0.4.0)\n",
      "Requirement already satisfied: charset-normalizer<4,>=2 in c:\\users\\basyr\\.conda\\envs\\fpi\\lib\\site-packages (from requests->huggingface-hub>=0.23.0->langchain-huggingface) (3.3.2)\n",
      "Requirement already satisfied: idna<4,>=2.5 in c:\\users\\basyr\\.conda\\envs\\fpi\\lib\\site-packages (from requests->huggingface-hub>=0.23.0->langchain-huggingface) (3.10)\n",
      "Requirement already satisfied: urllib3<3,>=1.21.1 in c:\\users\\basyr\\.conda\\envs\\fpi\\lib\\site-packages (from requests->huggingface-hub>=0.23.0->langchain-huggingface) (2.3.0)\n",
      "Requirement already satisfied: certifi>=2017.4.17 in c:\\users\\basyr\\.conda\\envs\\fpi\\lib\\site-packages (from requests->huggingface-hub>=0.23.0->langchain-huggingface) (2025.1.31)\n",
      "Requirement already satisfied: networkx in c:\\users\\basyr\\.conda\\envs\\fpi\\lib\\site-packages (from torch>=1.11.0->sentence-transformers>=2.6.0->langchain-huggingface) (3.4.2)\n",
      "Requirement already satisfied: jinja2 in c:\\users\\basyr\\.conda\\envs\\fpi\\lib\\site-packages (from torch>=1.11.0->sentence-transformers>=2.6.0->langchain-huggingface) (3.1.6)\n",
      "Requirement already satisfied: setuptools in c:\\users\\basyr\\.conda\\envs\\fpi\\lib\\site-packages (from torch>=1.11.0->sentence-transformers>=2.6.0->langchain-huggingface) (75.8.0)\n",
      "Requirement already satisfied: sympy==1.13.1 in c:\\users\\basyr\\.conda\\envs\\fpi\\lib\\site-packages (from torch>=1.11.0->sentence-transformers>=2.6.0->langchain-huggingface) (1.13.1)\n",
      "Requirement already satisfied: mpmath<1.4,>=1.1.0 in c:\\users\\basyr\\.conda\\envs\\fpi\\lib\\site-packages (from sympy==1.13.1->torch>=1.11.0->sentence-transformers>=2.6.0->langchain-huggingface) (1.3.0)\n",
      "Requirement already satisfied: colorama in c:\\users\\basyr\\.conda\\envs\\fpi\\lib\\site-packages (from tqdm>=4.42.1->huggingface-hub>=0.23.0->langchain-huggingface) (0.4.6)\n",
      "Requirement already satisfied: joblib>=1.2.0 in c:\\users\\basyr\\.conda\\envs\\fpi\\lib\\site-packages (from scikit-learn->sentence-transformers>=2.6.0->langchain-huggingface) (1.4.2)\n",
      "Requirement already satisfied: threadpoolctl>=3.1.0 in c:\\users\\basyr\\.conda\\envs\\fpi\\lib\\site-packages (from scikit-learn->sentence-transformers>=2.6.0->langchain-huggingface) (3.6.0)\n",
      "Requirement already satisfied: anyio in c:\\users\\basyr\\.conda\\envs\\fpi\\lib\\site-packages (from httpx<1,>=0.23.0->langsmith<0.4,>=0.1.125->langchain-core<0.4.0,>=0.3.15->langchain-huggingface) (4.6.2)\n",
      "Requirement already satisfied: httpcore==1.* in c:\\users\\basyr\\.conda\\envs\\fpi\\lib\\site-packages (from httpx<1,>=0.23.0->langsmith<0.4,>=0.1.125->langchain-core<0.4.0,>=0.3.15->langchain-huggingface) (1.0.2)\n",
      "Requirement already satisfied: sniffio in c:\\users\\basyr\\.conda\\envs\\fpi\\lib\\site-packages (from httpx<1,>=0.23.0->langsmith<0.4,>=0.1.125->langchain-core<0.4.0,>=0.3.15->langchain-huggingface) (1.3.0)\n",
      "Requirement already satisfied: h11<0.15,>=0.13 in c:\\users\\basyr\\.conda\\envs\\fpi\\lib\\site-packages (from httpcore==1.*->httpx<1,>=0.23.0->langsmith<0.4,>=0.1.125->langchain-core<0.4.0,>=0.3.15->langchain-huggingface) (0.14.0)\n",
      "Requirement already satisfied: MarkupSafe>=2.0 in c:\\users\\basyr\\.conda\\envs\\fpi\\lib\\site-packages (from jinja2->torch>=1.11.0->sentence-transformers>=2.6.0->langchain-huggingface) (3.0.2)\n",
      "Note: you may need to restart the kernel to use updated packages.\n"
     ]
    },
    {
     "name": "stderr",
     "output_type": "stream",
     "text": [
      "WARNING: Ignoring invalid distribution ~angchain-community (C:\\Users\\basyr\\.conda\\envs\\FPI\\Lib\\site-packages)\n",
      "WARNING: Ignoring invalid distribution ~angchain-community (C:\\Users\\basyr\\.conda\\envs\\FPI\\Lib\\site-packages)\n",
      "WARNING: Ignoring invalid distribution ~angchain-community (C:\\Users\\basyr\\.conda\\envs\\FPI\\Lib\\site-packages)\n"
     ]
    }
   ],
   "source": [
    "%pip install --upgrade langchain-huggingface"
   ]
  },
  {
   "cell_type": "code",
   "execution_count": 5,
   "metadata": {
    "id": "SYZHpjtPBMjb"
   },
   "outputs": [],
   "source": [
    "from langchain.document_loaders import DirectoryLoader\n",
    "from langchain.text_splitter import RecursiveCharacterTextSplitter\n",
    "from langchain_huggingface import HuggingFaceEmbeddings\n",
    "from langchain.vectorstores import FAISS\n",
    "from langchain.chains import RetrievalQA\n"
   ]
  },
  {
   "cell_type": "code",
   "execution_count": 6,
   "metadata": {
    "id": "6AF7w7Opum-V"
   },
   "outputs": [
    {
     "name": "stderr",
     "output_type": "stream",
     "text": [
      "ЋиЁЎЄ  ў бЁ­в ЄбЁбҐ Є®¬ ­¤л.\n",
      "\"cp\" ­Ґ пў«пҐвбп ў­гваҐ­­Ґ© Ё«Ё ў­Ґи­Ґ©\n",
      "Є®¬ ­¤®©, ЁбЇ®«­пҐ¬®© Їа®Ја ¬¬®© Ё«Ё Ї ЄҐв­л¬ д ©«®¬.\n"
     ]
    }
   ],
   "source": [
    "!mkdir -p /content/docs\n",
    "!cp /content/sample_document.pdf /content/docs/"
   ]
  },
  {
   "cell_type": "code",
   "execution_count": 27,
   "metadata": {
    "id": "a_En69wfBNwP"
   },
   "outputs": [],
   "source": [
    "# 1. Ingestion\n",
    "loader = DirectoryLoader(\"C:\\\\Users\\\\basyr\\\\Downloads\\\\docs\\\\\", glob=\"**/*.pdf\")\n",
    "docs = loader.load()\n"
   ]
  },
  {
   "cell_type": "code",
   "execution_count": 28,
   "metadata": {
    "id": "JZfBS295BOz9"
   },
   "outputs": [],
   "source": [
    "# 2. Splitting\n",
    "splitter = RecursiveCharacterTextSplitter(chunk_size=800, chunk_overlap=200)\n",
    "chunks = splitter.split_documents(docs)"
   ]
  },
  {
   "cell_type": "code",
   "execution_count": 20,
   "metadata": {
    "colab": {
     "base_uri": "https://localhost:8080/"
    },
    "id": "_bLBMxmzCGI1",
    "outputId": "4b3154fc-2c94-46ec-be29-8c6a09807df9"
   },
   "outputs": [
    {
     "name": "stdout",
     "output_type": "stream",
     "text": [
      "Requirement already satisfied: faiss in c:\\users\\basyr\\.conda\\envs\\fpi\\lib\\site-packages (1.9.0)\n",
      "Requirement already satisfied: numpy in c:\\users\\basyr\\.conda\\envs\\fpi\\lib\\site-packages (from faiss) (1.26.4)\n",
      "Requirement already satisfied: packaging in c:\\users\\basyr\\.conda\\envs\\fpi\\lib\\site-packages (from faiss) (24.2)\n"
     ]
    },
    {
     "name": "stderr",
     "output_type": "stream",
     "text": [
      "WARNING: Ignoring invalid distribution ~angchain-community (C:\\Users\\basyr\\.conda\\envs\\FPI\\Lib\\site-packages)\n",
      "WARNING: Ignoring invalid distribution ~angchain-community (C:\\Users\\basyr\\.conda\\envs\\FPI\\Lib\\site-packages)\n",
      "WARNING: Ignoring invalid distribution ~angchain-community (C:\\Users\\basyr\\.conda\\envs\\FPI\\Lib\\site-packages)\n"
     ]
    }
   ],
   "source": [
    "!pip install faiss\n"
   ]
  },
  {
   "cell_type": "code",
   "execution_count": null,
   "metadata": {
    "colab": {
     "base_uri": "https://localhost:8080/"
    },
    "id": "q62jRklIvfSE",
    "outputId": "d3b7742a-19e0-4f0b-b33b-ae9ef37b0569"
   },
   "outputs": [
    {
     "name": "stdout",
     "output_type": "stream",
     "text": [
      "Requirement already satisfied: numpy in /usr/local/lib/python3.11/dist-packages (1.26.4)\n"
     ]
    }
   ],
   "source": [
    "!pip install numpy"
   ]
  },
  {
   "cell_type": "code",
   "execution_count": 29,
   "metadata": {
    "colab": {
     "base_uri": "https://localhost:8080/",
     "height": 329
    },
    "id": "GLdKOssABP2H",
    "outputId": "79e8748c-b33b-445d-9e40-933c1d95389f"
   },
   "outputs": [],
   "source": [
    "# 3. Эмбеддинги\n",
    "emb = HuggingFaceEmbeddings(model_name=\"sentence-transformers/all-mpnet-base-v2\")\n",
    "vectordb = FAISS.from_documents(chunks, emb)"
   ]
  },
  {
   "cell_type": "code",
   "execution_count": 30,
   "metadata": {
    "id": "ALkkqbWQBRGU"
   },
   "outputs": [],
   "source": [
    "# 4. Retriever\n",
    "retriever = vectordb.as_retriever(search_kwargs={\"k\":5})"
   ]
  },
  {
   "cell_type": "code",
   "execution_count": 31,
   "metadata": {
    "id": "BQgRfdD8BSF3"
   },
   "outputs": [],
   "source": [
    "# 5. LLM — пример с GigaChat\n",
    "from langchain_community.chat_models import GigaChat\n",
    "llm = GigaChat(verify_ssl_certs=False, scope=\"GIGACHAT_API_PERS\")"
   ]
  },
  {
   "cell_type": "code",
   "execution_count": 32,
   "metadata": {
    "id": "3GfyAU4qBTVk"
   },
   "outputs": [],
   "source": [
    "\n",
    "# 6. Цепочка RetrievalQA\n",
    "qa = RetrievalQA.from_chain_type(\n",
    "    llm=llm,\n",
    "    chain_type=\"stuff\",\n",
    "    retriever=retriever\n",
    ")"
   ]
  },
  {
   "cell_type": "code",
   "execution_count": 59,
   "metadata": {
    "id": "nzMr7ZtPAZXk"
   },
   "outputs": [
    {
     "name": "stdout",
     "output_type": "stream",
     "text": [
      "Вот ID людей, которые могут помочь вам с высшей математикой: 3092, 3032\n"
     ]
    }
   ],
   "source": [
    "answer = qa.run(\"Кто мне может помочь сделать домашнее задание по высшей математике? Дай мне ID нужных людей, которые занимаются только высшей математикой. Дай мне ID людей, которые занимаются высшей математикой\")\n",
    "print(answer)\n"
   ]
  },
  {
   "cell_type": "code",
   "execution_count": null,
   "metadata": {},
   "outputs": [],
   "source": []
  },
  {
   "cell_type": "code",
   "execution_count": null,
   "metadata": {},
   "outputs": [],
   "source": []
  }
 ],
 "metadata": {
  "accelerator": "GPU",
  "colab": {
   "gpuType": "T4",
   "provenance": []
  },
  "kernelspec": {
   "display_name": "Python 3 (ipykernel)",
   "language": "python",
   "name": "python3"
  },
  "language_info": {
   "codemirror_mode": {
    "name": "ipython",
    "version": 3
   },
   "file_extension": ".py",
   "mimetype": "text/x-python",
   "name": "python",
   "nbconvert_exporter": "python",
   "pygments_lexer": "ipython3",
   "version": "3.12.9"
  }
 },
 "nbformat": 4,
 "nbformat_minor": 4
}
